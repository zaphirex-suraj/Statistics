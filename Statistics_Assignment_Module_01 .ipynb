{
  "cells": [
    {
      "cell_type": "markdown",
      "id": "16ffcbb9",
      "metadata": {
        "id": "16ffcbb9"
      },
      "source": [
        "# Statistics Basics — Assignment (Module 01)|| Assignment Code: DS-AG-005\n",
        "\n",
        "**Student:** Suraj Vishwakarma || email:-vishsurajfor@gmail.com\n",
        "\n",
        "This notebook contains the 9 questions from the assignment with answers and runnable Python code where applicable."
      ]
    },
    {
      "cell_type": "markdown",
      "id": "1827bfec",
      "metadata": {
        "id": "1827bfec"
      },
      "source": [
        "### Question 1: What is the difference between descriptive statistics and inferential statistics? Explain with examples.\n",
        "\n",
        "**Answer:**\n",
        "\n",
        "Descriptive and inferential statistics are two main branches of statistical analysis, each serving a different purpose in data analysis.\n",
        "\n",
        "**Descriptive Statistics:**\n",
        "\n",
        "Descriptive statistics summarize and describe the essential features of a data set. They present raw data in a meaningful way through numerical calculations, graphs, and tables. These statistics help us understand patterns within the data without making generalizations or predictions beyond the data at hand.\n",
        "\n",
        "**Common tools:**\n",
        "- Measures of central tendency (mean, median, mode),\n",
        "- Measures of dispersion (range, variance, standard deviation),\n",
        "- Data visualizations (bar charts, histograms, pie charts).\n",
        "\n",
        "**Example:** A teacher calculates the average score of her 30 students in a math test. Mean = 75; Highest = 98; Lowest = 45 — this is a descriptive summary.\n",
        "\n",
        "**Inferential Statistics:**\n",
        "\n",
        "Inferential statistics are used to make predictions or generalizations about a population based on data collected from a sample. It uses probability theory to draw conclusions and test hypotheses.\n",
        "\n",
        "**Common tools:**\n",
        "- Hypothesis testing\n",
        "- confidence intervals\n",
        "- Regression analysis\n",
        "- Chi-square tests\n",
        "- ANOVA.(Analysis of Variance)\n",
        "\n",
        "**Example:** A researcher surveys 200 people to estimate the average income in a city of 500,000 people. Based on this sample the researcher estimates the average income is ₹25,000 per month — this is an inference to the population.\n",
        "-  Comparison Table\n",
        "\n",
        "\n",
        "| Aspect | Descriptive Statistics | Inferential Statistics |\n",
        "|--------|------------------------|------------------------|\n",
        "| **Purpose** | Describe observed data | Infer about a larger population |\n",
        "| **Data Scope** | Uses entire dataset | Uses sample data |\n",
        "| **Results** | Exact summary of data | Probable generalizations and predictions |\n",
        "| **Uncertainty Involved** | No | Yes |\n",
        "| **Example** | Average marks of a class | Estimating average marks for a whole school |\n",
        "\n",
        "\n",
        "**Conclusion:** Descriptive statistics summarize what we have; inferential statistics help make educated guesses about what we do not have (the full population)."
      ]
    },
    {
      "cell_type": "markdown",
      "id": "e16212e3",
      "metadata": {
        "id": "e16212e3"
      },
      "source": [
        "### Question 2: What is sampling in statistics? Explain the differences between random and stratified sampling.\n",
        "\n",
        "**Answer:**\n",
        "\n",
        "**Sampling** is the process of selecting a subset (sample) from a larger group (population) to make statistical inferences. It helps make data collection manageable and cost-effective.\n",
        "- Purpose of sampling:-\n",
        "\n",
        "1. To draw conclusions about the population\n",
        "2. To make the research process more efficient and cost-effective\n",
        "3. \tTo ensure the data is manageable and analysable.\n",
        "\n",
        "- Example:\n",
        ">> If a school wants to know the average performance of its students, it may randomly choose 100 students out of 1,000 total and analyze their results. This group of 100 is a sample.\n",
        "\n",
        "- Types of Sampling:-  \n",
        "Two common sampling methods in statistics are Random Sampling and Stratified Sampling\n",
        "\n",
        "**Random (Simple Random) Sampling:**\n",
        "- Each member of the population has an equal chance of being selected.\n",
        "- Reduces selection bias when the population is homogeneous.\n",
        "- Example: picking 50 students at random from a college list using random numbers.\n",
        "\n",
        "**Stratified Sampling:**\n",
        "- The population is divided into subgroups (strata) based on shared characteristics (e.g., gender, age). A sample is taken from each stratum (proportionally or equally).\n",
        "- Ensures representation of subgroups and often gives more precise estimates when population is heterogeneous.\n",
        "- Example: If a company has 60 men and 40 women and we want a sample of 20, pick 12 men and 8 women proportionally.\n",
        "\n",
        "**Comparison Table:**\n",
        "\n",
        "| **Aspect**           | **Random Sampling**                                           | **Stratified Sampling**                                                 |\n",
        "|----------------------|---------------------------------------------------------------|--------------------------------------------------------------------------|\n",
        "| **Definition**       | Every individual has an equal chance                          | Population divided into strata; sample drawn from each                   |\n",
        "| **Bias Possibility** | Less likely if done properly                                  | Even less likely due to structured representation                        |\n",
        "| **Use Case**         | When population is similar / homogeneous                      | When population is diverse / heterogeneous                               |\n",
        "| **Example**          | Picking 10 students at random from a class                    | Picking 5 boys and 5 girls from a class of 25 boys & 25 girls             |\n",
        "| **Accuracy**         | May vary depending on selection                               | Generally provides a more accurate representation                        |\n",
        "\n",
        "**Conclusion:**\n",
        ">> Choose random sampling when population is relatively uniform; choose stratified sampling when important subgroups must be represented."
      ]
    },
    {
      "cell_type": "markdown",
      "id": "fd5939de",
      "metadata": {
        "id": "fd5939de"
      },
      "source": [
        "### Question 3: Define mean, median, and mode. Explain why these measures of central tendency are important.\n",
        "\n",
        "**Answer:**\n",
        "\n",
        "**Mean (Average):** Sum of all values divided by the number of observations.\n",
        "- Example: For marks 70,75,80,85,90 → mean = 80.\n",
        "\n",
        "**Median:** The middle value when the data are sorted. If even number of observations, median is the average of two middle values.\n",
        "- Example: 15,20,25,30,35 → median = 25. For 10,20,30,40 → median = (20+30)/2 = 25.\n",
        "\n",
        "**Mode:** The value that appears most frequently. A dataset can be unimodal, bimodal, multimodal, or have no mode.\n",
        "- Example: 5,8,8,10,12 → mode = 8.\n",
        "\n",
        "**Importance:**\n",
        "- Mean gives a general average used widely (income, temperature, marks).\n",
        "- Median is robust to outliers and skewed distributions (useful for income data).\n",
        "- Mode identifies the most common value (useful for popular product size, category).\n",
        "\n",
        "Using these three measures together helps summarize different aspects of a dataset's central tendency depending on data shape and presence of outliers."
      ]
    },
    {
      "cell_type": "markdown",
      "id": "2ec5647d",
      "metadata": {
        "id": "2ec5647d"
      },
      "source": [
        "### Question 4: Explain skewness and kurtosis. What does a positive skew imply about the data?\n",
        "\n",
        "**Answer:**\n",
        "\n",
        "-  Skewness and kurtosis are statistical concepts used to describe the shape and distribution of data.\n",
        "While central tendency (mean, median, mode) tells us about the \"center\" of data, skewness and kurtosis help us understand the symmetry and peakedness of the distribution.\n",
        "\n",
        "\n",
        "1. **Skewness:** Measures asymmetry of a distribution.\n",
        "\n",
        "a)Types of Skewness:\n",
        "- Symmetric (skewness ≈ 0): mean = median = mode.\n",
        "- Positive skew (right-skewed): long right tail, mean > median > mode; indicates some unusually large values.\n",
        "- Negative skew (left-skewed): long left tail, mean < median < mode.\n",
        "\n",
        "**Positive skew implication:**\n",
        "- A positive skew means the right tail is longer, and there are a few extremely high values in the dataset.\n",
        "\n",
        "Key Characteristics of Positively Skewed Data:-\n",
        "\n",
        "1.\tMajority of the data points are concentrated on the left side.\n",
        "2.\tThe mean is greater than the median.\n",
        "3.\tMay indicate the presence of outliers or high-income earners, etc.\n",
        "\n",
        "- Example:\n",
        "Income distribution in a country is often positively skewed—most people earn average salaries, while a few earn extremely high incomes\n",
        "\n",
        "2. **Kurtosis:**\n",
        "Kurtosis measures the \"tailed-ness\" or peak of the data distribution. It helps us understand the likelihood of extreme values (outliers).\n",
        "\n",
        "a)Types of Kurtosis:\n",
        "- Mesokurtic: similar to normal (reference).\n",
        "- Leptokurtic: high peak and fat tails (more extreme values/outliers).\n",
        "- Platykurtic: flatter peak and thinner tails (fewer extremes).\n",
        "\n",
        "- Comparison Table:-\n",
        "\n",
        "| **Aspect**  | **Skewness**                                  | **Kurtosis**                                        |\n",
        "|-------------|-----------------------------------------------|-----------------------------------------------------|\n",
        "| **Measures**| Asymmetry of the distribution                 | Peakedness or flatness of the distribution          |\n",
        "| **Value**   | Positive, negative, or zero                   | Can be > 0, < 0, or 0                               |\n",
        "| **Use**     | To check balance or tilt of data               | To detect outliers or extreme deviations            |\n",
        "\n",
        "\n",
        "**Use:** Skewness tells about symmetry; kurtosis indicates likelihood of outliers. Both are useful in risk assessment and understanding distributional shape."
      ]
    },
    {
      "cell_type": "markdown",
      "id": "20ffff26",
      "metadata": {
        "id": "20ffff26"
      },
      "source": [
        "### Question 5: Implement a Python program to compute the mean, median, and mode of a given list of numbers.\n",
        "\n",
        "**numbers = [12, 15, 12, 18, 19, 12, 20, 22, 19, 19, 24, 24, 24, 26, 28]**\n",
        "\n",
        "Below is a runnable Python cell that computes mean, median, and mode and prints results."
      ]
    },
    {
      "cell_type": "code",
      "execution_count": 8,
      "id": "717851bd",
      "metadata": {
        "colab": {
          "base_uri": "https://localhost:8080/"
        },
        "id": "717851bd",
        "outputId": "72728c5d-b02a-447b-f282-34bcef4f2c80"
      },
      "outputs": [
        {
          "output_type": "stream",
          "name": "stdout",
          "text": [
            "Numbers: [12, 15, 12, 18, 19, 12, 20, 22, 19, 19, 24, 24, 24, 26, 28]\n",
            "Mean   : 19.6\n",
            "Median : 19\n",
            "Mode   : 12\n"
          ]
        }
      ],
      "source": [
        "# Program to compute mean, median, and mode of a list of numbers\n",
        "\n",
        "import statistics as stats\n",
        "\n",
        "# Given list of numbers\n",
        "numbers = [12, 15, 12, 18, 19, 12, 20, 22, 19, 19, 24, 24, 24, 26, 28]\n",
        "\n",
        "# Calculating mean\n",
        "mean_value = stats.mean(numbers)\n",
        "\n",
        "# Calculating median\n",
        "median_value = stats.median(numbers)\n",
        "\n",
        "# Calculating mode\n",
        "# Note: statistics.mode() returns the first mode if multiple exist\n",
        "mode_value = stats.mode(numbers)\n",
        "\n",
        "# Printing results\n",
        "print(\"Numbers:\", numbers)\n",
        "print(f\"Mean   : {mean_value}\")\n",
        "print(f\"Median : {median_value}\")\n",
        "print(f\"Mode   : {mode_value}\")\n"
      ]
    },
    {
      "cell_type": "markdown",
      "id": "ce2d23ce",
      "metadata": {
        "id": "ce2d23ce"
      },
      "source": [
        "### Question 6: Compute the covariance and correlation coefficient between two datasets.\n",
        "\n",
        "**list_x = [10, 20, 30, 40, 50]**\n",
        "**list_y = [15, 25, 35, 45, 60]**\n",
        "\n",
        "The cell below computes covariance (sample) and Pearson correlation."
      ]
    },
    {
      "cell_type": "code",
      "execution_count": 9,
      "id": "21363fb8",
      "metadata": {
        "colab": {
          "base_uri": "https://localhost:8080/"
        },
        "id": "21363fb8",
        "outputId": "3b7fea28-5f11-4f4a-ed49-545e00d2ff8b"
      },
      "outputs": [
        {
          "output_type": "stream",
          "name": "stdout",
          "text": [
            "List X: [10, 20, 30, 40, 50]\n",
            "List Y: [15, 25, 35, 45, 60]\n",
            "Covariance (sample): 275.0\n",
            "Correlation coefficient (Pearson r): 0.995893206467704\n"
          ]
        }
      ],
      "source": [
        "# Program to compute covariance and correlation coefficient\n",
        "\n",
        "import numpy as np\n",
        "\n",
        "# Given data\n",
        "list_x = [10, 20, 30, 40, 50]\n",
        "list_y = [15, 25, 35, 45, 60]\n",
        "\n",
        "# Convert lists to numpy arrays\n",
        "x = np.array(list_x)\n",
        "y = np.array(list_y)\n",
        "\n",
        "# Covariance matrix (sample covariance by default)\n",
        "# np.cov returns a 2x2 matrix; covariance is at [0, 1]\n",
        "cov_matrix = np.cov(x, y, bias=False)\n",
        "covariance = cov_matrix[0, 1]\n",
        "\n",
        "# Pearson correlation coefficient\n",
        "correlation = np.corrcoef(x, y)[0, 1]\n",
        "\n",
        "# Display results\n",
        "print(\"List X:\", list_x)\n",
        "print(\"List Y:\", list_y)\n",
        "print(\"Covariance (sample):\", covariance)\n",
        "print(\"Correlation coefficient (Pearson r):\", correlation)\n"
      ]
    },
    {
      "cell_type": "markdown",
      "id": "56a1e6cb",
      "metadata": {
        "id": "56a1e6cb"
      },
      "source": [
        "### Question 7: : Write a Python script to draw a boxplot for the following numeric list and identify its outliers. Explain the result:  \n",
        "  \n",
        "data = [12, 14, 14, 15, 18, 19, 19, 21, 22, 22, 23, 23, 24, 26, 29, 35]  \n"
      ]
    },
    {
      "cell_type": "code",
      "execution_count": 10,
      "id": "6672ce46",
      "metadata": {
        "colab": {
          "base_uri": "https://localhost:8080/",
          "height": 524
        },
        "id": "6672ce46",
        "outputId": "ed00b7c5-9611-4ab8-e531-3c73e7e617f7"
      },
      "outputs": [
        {
          "output_type": "display_data",
          "data": {
            "text/plain": [
              "<Figure size 640x480 with 1 Axes>"
            ],
            "image/png": "[encoded data removed]"
          },
          "metadata": {}
        },
        {
          "output_type": "stream",
          "name": "stdout",
          "text": [
            "Q1: 17.25, Q3: 23.25, IQR: 6.0\n",
            "Lower Bound: 8.25, Upper Bound: 32.25\n",
            "Outliers: [35]\n"
          ]
        }
      ],
      "source": [
        "import matplotlib.pyplot as plt\n",
        "import numpy as np\n",
        "\n",
        "# Given data\n",
        "data = [12, 14, 14, 15, 18, 19, 19, 21, 22, 22, 23, 23, 24, 26, 29, 35]\n",
        "\n",
        "# Create the boxplot\n",
        "plt.boxplot(data, vert=False)\n",
        "plt.title(\"Boxplot of Data\")\n",
        "plt.xlabel(\"Values\")\n",
        "plt.grid(True)\n",
        "plt.show()\n",
        "\n",
        "# Calculate quartiles and IQR for outlier detection\n",
        "Q1 = np.percentile(data, 25)\n",
        "Q3 = np.percentile(data, 75)\n",
        "IQR = Q3 - Q1\n",
        "\n",
        "# Determine bounds for outliers\n",
        "lower_bound = Q1 - 1.5 * IQR\n",
        "upper_bound = Q3 + 1.5 * IQR\n",
        "\n",
        "# Identify outliers\n",
        "outliers = [x for x in data if x < lower_bound or x > upper_bound]\n",
        "\n",
        "print(f\"Q1: {Q1}, Q3: {Q3}, IQR: {IQR}\")\n",
        "print(f\"Lower Bound: {lower_bound}, Upper Bound: {upper_bound}\")\n",
        "print(f\"Outliers: {outliers}\")\n",
        "\n",
        "\n"
      ]
    },
    {
      "cell_type": "markdown",
      "source": [
        "Question 8: You are working as a data analyst in an e-commerce company. The marketing team wants to know if there is a relationship between advertising spend and daily sales.  \n",
        "●\tExplain how you would use covariance and correlation to explore this relationship.  \n",
        "●\tWrite Python code to compute the correlation between the two lists:  -advertising_spend = [200, 250, 300, 400, 500]    daily_sales = [2200, 2450, 2750, 3200, 4000]  \n"
      ],
      "metadata": {
        "id": "8KbirEp2CoN-"
      },
      "id": "8KbirEp2CoN-"
    },
    {
      "cell_type": "markdown",
      "source": [
        "Answer:-\n",
        "(a) Using Covariance and Correlation to Explore the Relationship\n",
        "\n",
        "As a data analyst, to explore the relationship between advertising spend and daily sales, we can use two important statistical measures:\n",
        "\n",
        "1. Covariance:\n",
        "•\tCovariance indicates whether two variables move together.\n",
        "•\tIf both variables increase or decrease together, the covariance is positive.\n",
        "•\tIf one increases while the other decreases, the covariance is negative.\n",
        "•\tHowever, covariance does not measure the strength of the relationship.\n",
        "\n",
        "2. Correlation Coefficient:\n",
        "•\tThe correlation coefficient (also called Pearson’s r) measures both the direction and strength of a linear relationship between two variables.\n",
        "•\tIt ranges from -1 to +1: o \t+1: Perfect positive correlation o \t0: No correlation\n",
        "\to \t-1: Perfect negative correlation\n",
        "•\tUnlike covariance, correlation is standardized and easy to interpret.\n",
        "\n",
        "Use Case:\n",
        "In our case:\n",
        "•\tIf higher advertising spend leads to higher daily sales, the correlation will be positive.\n",
        "•\tIf there is no relationship, the correlation will be close to zero.\n",
        "\n",
        "\n",
        "- Explanation of the Result\n",
        "Covariance:-\n",
        ">> Measures the direction of the relationship.\n",
        "\n",
        "A positive covariance means when advertising spend increases, daily sales tend to increase as well.\n",
        "\n",
        "- Correlation:\n",
        "\n",
        "Measures the strength and direction of the relationship.\n",
        "\n",
        ">> Ranges from -1 to 1.\n",
        "\n",
        "A correlation close to 1 means a strong positive relationship."
      ],
      "metadata": {
        "id": "wBAX68kgC1ae"
      },
      "id": "wBAX68kgC1ae"
    },
    {
      "cell_type": "code",
      "execution_count": 11,
      "id": "bd62d1aa",
      "metadata": {
        "colab": {
          "base_uri": "https://localhost:8080/"
        },
        "id": "bd62d1aa",
        "outputId": "15d6fca0-5415-435c-be3b-b46378b95e82"
      },
      "outputs": [
        {
          "output_type": "stream",
          "name": "stdout",
          "text": [
            "Covariance: 84875.00\n",
            "Correlation: 0.9936\n"
          ]
        }
      ],
      "source": [
        "\n",
        "import numpy as np\n",
        "\n",
        "# Given data\n",
        "advertising_spend = [200, 250, 300, 400, 500]\n",
        "daily_sales = [2200, 2450, 2750, 3200, 4000]\n",
        "\n",
        "# Convert to numpy arrays\n",
        "x = np.array(advertising_spend)\n",
        "y = np.array(daily_sales)\n",
        "\n",
        "# Compute covariance matrix\n",
        "cov_matrix = np.cov(x, y, ddof=1)\n",
        "cov_xy = cov_matrix[0, 1]\n",
        "\n",
        "# Compute correlation coefficient\n",
        "corr_xy = np.corrcoef(x, y)[0, 1]\n",
        "\n",
        "print(f\"Covariance: {cov_xy:.2f}\")\n",
        "print(f\"Correlation: {corr_xy:.4f}\")\n"
      ]
    },
    {
      "cell_type": "markdown",
      "id": "67a25ea5",
      "metadata": {
        "id": "67a25ea5"
      },
      "source": [
        "### Question 9: Customer satisfaction survey distribution. Show summary statistics and histogram.\n",
        "\n",
        "**survey_scores = [7, 8, 5, 9, 6, 7, 8, 9, 10, 4, 7, 6, 9, 8, 7]**"
      ]
    },
    {
      "cell_type": "markdown",
      "source": [
        "Answer:-\n",
        "\n",
        "\n",
        "\n",
        "We will calculate summary statistics (mean, median, standard deviation, min, max, count) and then create a histogram to visualize the distribution.\n",
        "\n",
        "### Summary Statistics to Compute:\n",
        "- **Mean** – The average score.\n",
        "- **Median** – The middle score when sorted; less sensitive to outliers.\n",
        "- **Standard Deviation** – The spread of scores from the mean.\n",
        "- **Minimum & Maximum** – The range of scores.\n",
        "- **Count** – The total number of responses.\n",
        "\n",
        "### Visualization:\n",
        "- **Histogram** – Displays the frequency of each score.\n",
        "- A **vertical dashed red line** will indicate the mean score.\n",
        "\n",
        "### **Answer / Interpretation:**\n",
        "- **Mean Score:** 7.33 → most responses are near 7.\n",
        "- **Median Score:** 7 → supports that the distribution is centered.\n",
        "- **Standard Deviation:** 1.63 → shows moderate variability in responses.\n",
        "- **Minimum:** 4, **Maximum:** 10 → full range of scores was used.\n",
        "- Histogram shows a peak between **7 and 9**, indicating many respondents gave high ratings.\n"
      ],
      "metadata": {
        "id": "FGsSDXd-FQ2F"
      },
      "id": "FGsSDXd-FQ2F"
    },
    {
      "cell_type": "code",
      "execution_count": 15,
      "id": "571fadbc",
      "metadata": {
        "colab": {
          "base_uri": "https://localhost:8080/",
          "height": 591
        },
        "id": "571fadbc",
        "outputId": "16eacc46-bb19-4248-f62d-f0dedc7cb734"
      },
      "outputs": [
        {
          "output_type": "stream",
          "name": "stdout",
          "text": [
            "Summary Statistics:\n",
            "Mean: 7.33\n",
            "Median: 7.0\n",
            "Standard Deviation: 1.63\n",
            "Minimum: 4, Maximum: 10\n",
            "Count: 15\n"
          ]
        },
        {
          "output_type": "display_data",
          "data": {
            "text/plain": [
              "<Figure size 800x500 with 1 Axes>"
            ],
            "image/png": "[encoded data removed]"
          },
          "metadata": {}
        }
      ],
      "source": [
        "\n",
        "# Q9: Summary Statistics and Histogram\n",
        "\n",
        "import matplotlib.pyplot as plt\n",
        "import numpy as np\n",
        "\n",
        "# Survey data\n",
        "survey_scores = [7, 8, 5, 9, 6, 7, 8, 9, 10, 4, 7, 6, 9, 8, 7]\n",
        "\n",
        "# Calculate summary statistics\n",
        "mean_score = np.mean(survey_scores)\n",
        "median_score = np.median(survey_scores)\n",
        "std_dev = np.std(survey_scores, ddof=1)  # Sample standard deviation\n",
        "min_score = min(survey_scores)\n",
        "max_score = max(survey_scores)\n",
        "count_scores = len(survey_scores)\n",
        "\n",
        "# Print summary statistics\n",
        "print(\"Summary Statistics:\")\n",
        "print(f\"Mean: {mean_score:.2f}\")\n",
        "print(f\"Median: {median_score}\")\n",
        "print(f\"Standard Deviation: {std_dev:.2f}\")\n",
        "print(f\"Minimum: {min_score}, Maximum: {max_score}\")\n",
        "print(f\"Count: {count_scores}\")\n",
        "\n",
        "# Create histogram\n",
        "plt.figure(figsize=(8, 5))\n",
        "plt.hist(survey_scores, bins=6, edgecolor='black', alpha=0.7)\n",
        "plt.title(\"Survey Scores Distribution\")\n",
        "plt.xlabel(\"Score\")\n",
        "plt.ylabel(\"Frequency\")\n",
        "\n",
        "# Add mean line\n",
        "plt.axvline(mean_score, color='red', linestyle='dashed', linewidth=1, label=f\"Mean: {mean_score:.2f}\")\n",
        "plt.legend()\n",
        "plt.grid(axis='y', linestyle='--', alpha=0.7)\n",
        "plt.show()\n",
        "\n"
      ]
    }
  ],
  "metadata": {
    "colab": {
      "provenance": []
    },
    "language_info": {
      "name": "python"
    },
    "kernelspec": {
      "name": "python3",
      "display_name": "Python 3"
    }
  },
  "nbformat": 4,
  "nbformat_minor": 5
}